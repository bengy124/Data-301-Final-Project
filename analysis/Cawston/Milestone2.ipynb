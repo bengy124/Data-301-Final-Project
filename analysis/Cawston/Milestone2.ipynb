{
 "cells": [
  {
   "cell_type": "code",
   "execution_count": null,
   "metadata": {},
   "outputs": [],
   "source": [
    "import pandas as pd\n",
    "import seaborn as sns\n",
    "import numpy as np\n",
    "import matplotlib.pyplot as plt\n",
    "import project_functions\n",
    "df=project_functions.load_and_process('../../data/raw/games-features.csv')\n",
    "df3=project_functions.Column_var_sort(df,\"Rating\", False)\n",
    "df=df*1\n",
    "import matplotlib as plt\n",
    "df.plot(x=\"Rating\", y=\"Owners\", kind=\"scatter\")\n",
    "df.plot(x=\"PriceFinal\", y=\"Owners\", kind=\"scatter\")\n",
    "df.plot(x=\"Recommendations\", y=\"Owners\", kind=\"scatter\")\n",
    "df.plot(x=\"GenreIsIndie\", y=\"Owners\", kind=\"scatter\")\n",
    "df.plot(x=\"GenreIsFreeToPlay\", y=\"Owners\", kind=\"scatter\")\n",
    "df.plot(x=\"GenreIsAction\", y=\"Owners\", kind=\"scatter\")\n",
    "df.plot(x=\"GenreIsAdventure\", y=\"Owners\", kind=\"scatter\")\n",
    "df.plot(x=\"GenreIsCasual\", y=\"Owners\", kind=\"scatter\")\n",
    "df.plot(x=\"GenreIsStrategy\", y=\"Owners\", kind=\"scatter\")\n",
    "df.plot(x=\"GenreIsRPG\", y=\"Owners\", kind=\"scatter\")\n",
    "df.plot(x=\"GenreIsSimulation\", y=\"Owners\", kind=\"scatter\")\n",
    "df.plot(x=\"GenreIsEarlyAccess\", y=\"Owners\", kind=\"scatter\")\n",
    "df.plot(x=\"GenreIsSports\", y=\"Owners\", kind=\"scatter\")\n",
    "df.plot(x=\"GenreIsRacing\", y=\"Owners\", kind=\"scatter\")\n",
    "df.plot(x=\"GenreIsMassivelyMultiplayer\", y=\"Owners\", kind=\"scatter\")\n",
    "print(\"done\")\n",
    "\n"
   ]
  },
  {
   "cell_type": "markdown",
   "metadata": {},
   "source": [
    "### Plots \n",
    "    The plots are a definite work in progress as of now as I am still working on a method to apply to the data to obtain better plots.\n",
    "    The code simply takes one of the functions given in project_functions to clean the data than applying plots to the genres and the price to get information on the ownership of the   games."
   ]
  },
  {
   "cell_type": "code",
   "execution_count": null,
   "metadata": {},
   "outputs": [],
   "source": []
  },
  {
   "cell_type": "code",
   "execution_count": null,
   "metadata": {},
   "outputs": [],
   "source": []
  },
  {
   "cell_type": "code",
   "execution_count": null,
   "metadata": {},
   "outputs": [],
   "source": []
  },
  {
   "cell_type": "code",
   "execution_count": null,
   "metadata": {},
   "outputs": [],
   "source": []
  },
  {
   "cell_type": "code",
   "execution_count": null,
   "metadata": {},
   "outputs": [],
   "source": []
  },
  {
   "cell_type": "code",
   "execution_count": null,
   "metadata": {},
   "outputs": [],
   "source": []
  },
  {
   "cell_type": "code",
   "execution_count": null,
   "metadata": {},
   "outputs": [],
   "source": []
  },
  {
   "cell_type": "code",
   "execution_count": null,
   "metadata": {},
   "outputs": [],
   "source": []
  },
  {
   "cell_type": "code",
   "execution_count": null,
   "metadata": {},
   "outputs": [],
   "source": []
  },
  {
   "cell_type": "code",
   "execution_count": null,
   "metadata": {},
   "outputs": [],
   "source": []
  },
  {
   "cell_type": "code",
   "execution_count": null,
   "metadata": {},
   "outputs": [],
   "source": []
  },
  {
   "cell_type": "code",
   "execution_count": null,
   "metadata": {},
   "outputs": [],
   "source": []
  }
 ],
 "metadata": {
  "kernelspec": {
   "display_name": "Python 3",
   "language": "python",
   "name": "python3"
  },
  "language_info": {
   "codemirror_mode": {
    "name": "ipython",
    "version": 3
   },
   "file_extension": ".py",
   "mimetype": "text/x-python",
   "name": "python",
   "nbconvert_exporter": "python",
   "pygments_lexer": "ipython3",
   "version": "3.8.5"
  }
 },
 "nbformat": 4,
 "nbformat_minor": 4
}
