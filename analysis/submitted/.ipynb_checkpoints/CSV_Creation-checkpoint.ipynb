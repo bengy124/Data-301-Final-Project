{
 "cells": [
  {
   "cell_type": "code",
   "execution_count": null,
   "metadata": {},
   "outputs": [],
   "source": [
    "import os\n",
    "import sys\n",
    "module_path = os.path.abspath(os.path.join('..'))\n",
    "if module_path not in sys.path:\n",
    "    sys.path.append(module_path)\n",
    "from Scripts import project_functions as pf\n",
    "df = pf.load_and_process('../../data/raw/games-features.csv')\n",
    "df.head()"
   ]
  },
  {
   "cell_type": "code",
   "execution_count": null,
   "metadata": {},
   "outputs": [],
   "source": [
    "#Making the main cleaned CSV file\n",
    "df.to_csv('../../data/processed/games-features-cleaned.csv')"
   ]
  },
  {
   "cell_type": "code",
   "execution_count": null,
   "metadata": {},
   "outputs": [],
   "source": [
    "#Making CSV files for each genre exclusively\n",
    "dfIndie = pf.Split_Genre(df, \"GenreIsIndie\")\n",
    "dfAction = pf.Split_Genre(df, \"GenreIsAction\")\n",
    "dfAdventure = pf.Split_Genre(df, \"GenreIsAdventure\")\n",
    "dfCasual = pf.Split_Genre(df, \"GenreIsCasual\")\n",
    "dfStrategy = pf.Split_Genre(df, \"GenreIsStrategy\")\n",
    "dfRPG = pf.Split_Genre(df, \"GenreIsRPG\")\n",
    "dfSimulation = pf.Split_Genre(df, \"GenreIsSimulation\")\n",
    "dfEarlyAccess = pf.Split_Genre(df, \"GenreIsEarlyAccess\")\n",
    "dfFreeToPlay = pf.Split_Genre(df, \"GenreIsFreeToPlay\")\n",
    "dfSports = pf.Split_Genre(df, \"GenreIsSports\")\n",
    "dfRacing = pf.Split_Genre(df, \"GenreIsRacing\")\n",
    "dfMMO = pf.Split_Genre(df, \"GenreIsMassivelyMultiplayer\")"
   ]
  },
  {
   "cell_type": "code",
   "execution_count": null,
   "metadata": {},
   "outputs": [],
   "source": [
    "dfIndie.to_csv('../../data/processed/games-features-indie.csv')\n",
    "dfAction.to_csv('../../data/processed/games-features-action.csv')\n",
    "dfAdventure.to_csv('../../data/processed/games-features-adventure.csv')\n",
    "dfCasual.to_csv('../../data/processed/games-features-casual.csv')\n",
    "dfStrategy.to_csv('../../data/processed/games-features-strategy.csv')\n",
    "dfRPG.to_csv('../../data/processed/games-features-rpg.csv')\n",
    "dfSimulation.to_csv('../../data/processed/games-features-simulation.csv')\n",
    "dfEarlyAccess.to_csv('../../data/processed/games-features-earlyaccess.csv')\n",
    "dfFreeToPlay.to_csv('../../data/processed/games-features-freetoplay.csv')\n",
    "dfSports.to_csv('../../data/processed/games-features-sports.csv')\n",
    "dfRacing.to_csv('../../data/processed/games-features-racing.csv')\n",
    "dfMMO.to_csv('../../data/processed/games-features-mmo.csv')"
   ]
  },
  {
   "cell_type": "code",
   "execution_count": 8,
   "metadata": {},
   "outputs": [],
   "source": [
    "#Making a CSV file of only rated games\n",
    "dfrated = df[df.Rating != 0]\n",
    "dfrated.to_csv('../../data/processed/games-features-rated.csv')"
   ]
  },
  {
   "cell_type": "code",
   "execution_count": null,
   "metadata": {},
   "outputs": [],
   "source": []
  }
 ],
 "metadata": {
  "kernelspec": {
   "display_name": "Python 3",
   "language": "python",
   "name": "python3"
  },
  "language_info": {
   "codemirror_mode": {
    "name": "ipython",
    "version": 3
   },
   "file_extension": ".py",
   "mimetype": "text/x-python",
   "name": "python",
   "nbconvert_exporter": "python",
   "pygments_lexer": "ipython3",
   "version": "3.8.5"
  }
 },
 "nbformat": 4,
 "nbformat_minor": 5
}
