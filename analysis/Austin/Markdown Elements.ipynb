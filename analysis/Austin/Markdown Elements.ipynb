{
 "cells": [
  {
   "cell_type": "markdown",
   "id": "sticky-province",
   "metadata": {},
   "source": [
    "### Header level 3\n",
    "## Header level 2\n",
    "# Header level 1\n",
    "\n",
    "*this text is italicized*\n",
    "\n",
    "* Bullet 1\n",
    "* Bullet 2\n",
    "* Bullet 3"
   ]
  },
  {
   "cell_type": "code",
   "execution_count": null,
   "id": "compatible-typing",
   "metadata": {},
   "outputs": [],
   "source": []
  }
 ],
 "metadata": {
  "kernelspec": {
   "display_name": "Python 3",
   "language": "python",
   "name": "python3"
  },
  "language_info": {
   "codemirror_mode": {
    "name": "ipython",
    "version": 3
   },
   "file_extension": ".py",
   "mimetype": "text/x-python",
   "name": "python",
   "nbconvert_exporter": "python",
   "pygments_lexer": "ipython3",
   "version": "3.8.5"
  }
 },
 "nbformat": 4,
 "nbformat_minor": 5
}
